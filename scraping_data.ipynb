{
 "cells": [
  {
   "cell_type": "code",
   "execution_count": null,
   "id": "2826e91e",
   "metadata": {},
   "outputs": [],
   "source": [
    "%pip install requests beautifulsoup4 pandas langchain chromadb -q"
   ]
  },
  {
   "cell_type": "code",
   "execution_count": null,
   "id": "7d315406",
   "metadata": {},
   "outputs": [],
   "source": [
    "import requests\n",
    "from bs4 import BeautifulSoup\n",
    "import pandas as pd\n",
    "from langchain.embeddings import OpenAIEmbeddings\n",
    "from chromadb.config import Settings\n",
    "from chromadb.db import ChromaDB\n",
    "\n",
    "# Step 2.1: Fetch SHL Product Catalog\n",
    "def fetch_shl_catalog(url):\n",
    "    response = requests.get(url)\n",
    "    soup = BeautifulSoup(response.content, 'html.parser')\n",
    "    return soup\n",
    "\n",
    "# Step 2.2: Extract Solution Links\n",
    "def extract_solution_links(soup):\n",
    "    solution_links = [a['href'] for a in soup.select('.solution-card a')]\n",
    "    return solution_links\n",
    "\n",
    "# Step 2.3: Fetch and Parse Fact Sheets\n",
    "def fetch_and_parse_fact_sheets(links):\n",
    "    fact_sheets = {}\n",
    "    for link in links:\n",
    "        response = requests.get(link)\n",
    "        soup = BeautifulSoup(response.content, 'html.parser')\n",
    "        fact_sheet_text = soup.select_one('.fact-sheet').text\n",
    "        fact_sheets[link] = fact_sheet_text\n",
    "    return fact_sheets\n",
    "\n",
    "# Step 2.4: Extract Test Metadata\n",
    "def extract_test_metadata(soup):\n",
    "    tables = pd.read_html(str(soup.find_all('table')))\n",
    "    metadata = []\n",
    "    for table in tables:\n",
    "        for index, row in table.iterrows():\n",
    "            metadata.append({\n",
    "                \"test_code\": row[0],\n",
    "                \"assessment_type\": row[1],\n",
    "                \"target_roles\": row[2].split(', '),\n",
    "                \"IRT_adaptive\": \"Adaptive\" in row[3]\n",
    "            })\n",
    "    return metadata\n",
    "\n",
    "# Example usage\n",
    "url = \"https://www.shl.com/solutions/products/product-catalog/\"\n",
    "soup = fetch_shl_catalog(url)\n",
    "links = extract_solution_links(soup)\n",
    "fact_sheets = fetch_and_parse_fact_sheets(links)\n",
    "metadata = extract_test_metadata(soup)\n",
    "\n",
    "print(fact_sheets)\n",
    "print(metadata)"
   ]
  },
  {
   "cell_type": "code",
   "execution_count": null,
   "id": "47603a2f",
   "metadata": {},
   "outputs": [],
   "source": [
    "# Step 3.1: Initialize Vector Database\n",
    "def init_vector_db():\n",
    "    settings = Settings()\n",
    "    db = ChromaDB(settings)\n",
    "    return db\n",
    "\n",
    "# Step 3.2: Embed and Store SHL Solutions\n",
    "def store_solutions_in_vector_db(db, solutions):\n",
    "    embeddings = OpenAIEmbeddings(model=\"text-embedding-3-small\")\n",
    "    for solution in solutions:\n",
    "        embedding = embeddings.embed(solution)\n",
    "        db.add(embedding, metadata={\"solution\": solution})\n",
    "\n",
    "# Example usage\n",
    "db = init_vector_db()\n",
    "solutions = [\"Solution A\", \"Solution B\"]  # Replace with actual solution names\n",
    "store_solutions_in_vector_db(db, solutions)\n"
   ]
  },
  {
   "cell_type": "code",
   "execution_count": null,
   "id": "1ee5e45d",
   "metadata": {},
   "outputs": [],
   "source": [
    "# Step 3.3: Store Fact Sheets as Documents\n",
    "import json\n",
    "\n",
    "def store_fact_sheets(fact_sheets):\n",
    "    with open('fact_sheets.json', 'w') as f:\n",
    "        json.dump(fact_sheets, f)\n",
    "\n",
    "# Example usage\n",
    "store_fact_sheets(fact_sheets)\n"
   ]
  },
  {
   "cell_type": "code",
   "execution_count": null,
   "id": "06d59793",
   "metadata": {},
   "outputs": [],
   "source": [
    "# Step 3.4: Store Test Metadata\n",
    "def store_test_metadata(metadata):\n",
    "    df = pd.DataFrame(metadata)\n",
    "    df.to_csv('test_metadata.csv', index=False)\n",
    "\n",
    "# Example usage\n",
    "store_test_metadata(metadata)\n"
   ]
  },
  {
   "cell_type": "code",
   "execution_count": 4,
   "id": "6e3fd33a",
   "metadata": {
    "scrolled": true
   },
   "outputs": [
    {
     "data": {
      "text/html": [
       "<div>\n",
       "<style scoped>\n",
       "    .dataframe tbody tr th:only-of-type {\n",
       "        vertical-align: middle;\n",
       "    }\n",
       "\n",
       "    .dataframe tbody tr th {\n",
       "        vertical-align: top;\n",
       "    }\n",
       "\n",
       "    .dataframe thead th {\n",
       "        text-align: right;\n",
       "    }\n",
       "</style>\n",
       "<table border=\"1\" class=\"dataframe\">\n",
       "  <thead>\n",
       "    <tr style=\"text-align: right;\">\n",
       "      <th></th>\n",
       "      <th>title</th>\n",
       "      <th>category</th>\n",
       "      <th>description</th>\n",
       "      <th>job_levels</th>\n",
       "      <th>languages</th>\n",
       "      <th>assessment_length</th>\n",
       "      <th>fact_sheet</th>\n",
       "      <th>tags</th>\n",
       "    </tr>\n",
       "  </thead>\n",
       "  <tbody>\n",
       "    <tr>\n",
       "      <th>0</th>\n",
       "      <td>Claims/Operations Supervisor Solution</td>\n",
       "      <td>Pre-packaged Job Solution</td>\n",
       "      <td>Assessment solution designed for claims and op...</td>\n",
       "      <td>[Supervisor, Manager]</td>\n",
       "      <td>[English, Hindi]</td>\n",
       "      <td>Short Form</td>\n",
       "      <td>None</td>\n",
       "      <td>[P, S, A, B]</td>\n",
       "    </tr>\n",
       "    <tr>\n",
       "      <th>1</th>\n",
       "      <td>Contact Center Customer Service + 8.0</td>\n",
       "      <td>Pre-packaged Job Solution</td>\n",
       "      <td>Comprehensive assessment for customer service ...</td>\n",
       "      <td>[Entry, Mid, Senior]</td>\n",
       "      <td>[English]</td>\n",
       "      <td>Standard</td>\n",
       "      <td>None</td>\n",
       "      <td>[A, B, C, P, S]</td>\n",
       "    </tr>\n",
       "    <tr>\n",
       "      <th>2</th>\n",
       "      <td>Contact Center Customer Service 8.0</td>\n",
       "      <td>Pre-packaged Job Solution</td>\n",
       "      <td>Assessment focused on customer service skills ...</td>\n",
       "      <td>[Entry, Mid]</td>\n",
       "      <td>[English]</td>\n",
       "      <td>Standard</td>\n",
       "      <td>None</td>\n",
       "      <td>[S, B, C, P]</td>\n",
       "    </tr>\n",
       "    <tr>\n",
       "      <th>3</th>\n",
       "      <td>Contact Center Manager - Short Form</td>\n",
       "      <td>Pre-packaged Job Solution</td>\n",
       "      <td>Short form assessment for contact center manag...</td>\n",
       "      <td>[Manager, Director]</td>\n",
       "      <td>[English]</td>\n",
       "      <td>Short Form</td>\n",
       "      <td>None</td>\n",
       "      <td>[A, B, P, S]</td>\n",
       "    </tr>\n",
       "    <tr>\n",
       "      <th>4</th>\n",
       "      <td>Contact Center Sales &amp; Service + 8.0</td>\n",
       "      <td>Pre-packaged Job Solution</td>\n",
       "      <td>Assessment for sales and service roles in cont...</td>\n",
       "      <td>[Entry, Mid, Senior]</td>\n",
       "      <td>[English]</td>\n",
       "      <td>Standard</td>\n",
       "      <td>None</td>\n",
       "      <td>[P, B, C, A, S]</td>\n",
       "    </tr>\n",
       "  </tbody>\n",
       "</table>\n",
       "</div>"
      ],
      "text/plain": [
       "                                   title                   category  \\\n",
       "0  Claims/Operations Supervisor Solution  Pre-packaged Job Solution   \n",
       "1  Contact Center Customer Service + 8.0  Pre-packaged Job Solution   \n",
       "2    Contact Center Customer Service 8.0  Pre-packaged Job Solution   \n",
       "3    Contact Center Manager - Short Form  Pre-packaged Job Solution   \n",
       "4   Contact Center Sales & Service + 8.0  Pre-packaged Job Solution   \n",
       "\n",
       "                                         description             job_levels  \\\n",
       "0  Assessment solution designed for claims and op...  [Supervisor, Manager]   \n",
       "1  Comprehensive assessment for customer service ...   [Entry, Mid, Senior]   \n",
       "2  Assessment focused on customer service skills ...           [Entry, Mid]   \n",
       "3  Short form assessment for contact center manag...    [Manager, Director]   \n",
       "4  Assessment for sales and service roles in cont...   [Entry, Mid, Senior]   \n",
       "\n",
       "          languages assessment_length fact_sheet             tags  \n",
       "0  [English, Hindi]        Short Form       None     [P, S, A, B]  \n",
       "1         [English]          Standard       None  [A, B, C, P, S]  \n",
       "2         [English]          Standard       None     [S, B, C, P]  \n",
       "3         [English]        Short Form       None     [A, B, P, S]  \n",
       "4         [English]          Standard       None  [P, B, C, A, S]  "
      ]
     },
     "execution_count": 4,
     "metadata": {},
     "output_type": "execute_result"
    }
   ],
   "source": [
    "import pandas as pd\n",
    "import json\n",
    "\n",
    "# Load JSON data from file\n",
    "file_path = \"shl_pre.json\"  # Adjust the path if necessary\n",
    "with open(file_path, \"r\", encoding=\"utf-8\") as f:\n",
    "    data = json.load(f)\n",
    "\n",
    "# Convert to DataFrame\n",
    "df = pd.DataFrame(data)\n",
    "\n",
    "# Display the DataFrame\n",
    "df.head()"
   ]
  },
  {
   "cell_type": "code",
   "execution_count": null,
   "id": "e66e29d2",
   "metadata": {},
   "outputs": [],
   "source": [
    "from langchain_community.document_loaders import WebBaseLoader\n",
    "import re\n",
    "\n",
    "for row, idx in df.iterrows():\n",
    "    base_url = row['url']\n",
    "    response = WebBaseLoader(base_url)\n",
    "    docs = response.load()\n",
    "    text = docs[0].page_content  # LangChain Document objects have a 'page_content' attribute\n",
    "    text = text.replace('\\n', ' ').strip()\n",
    "    text = text.lower()\n",
    "    text = re.sub(r'\\s+', ' ', text)  # Replace multiple spaces with a single space\n",
    "    text = re.sub(r'[^a-z0-9\\s]', '', text)  # Remove non-alphanumeric characters except spaces\n",
    "    x= x.lower()\n",
    "    final = x.findall('description/s')\n",
    "    match = re.search(r'\\bdescription\\b', text, re.IGNORECASE)  # Case-insensitive search\n",
    "    if match:\n",
    "        text_after_description = text[match.start():\n",
    "        row['description'] = text_after_description\n",
    "    else:\n",
    "        print('\"description\" not found in the text.')\n",
    "    \n",
    "    "
   ]
  },
  {
   "cell_type": "code",
   "execution_count": 5,
   "id": "3c56b80d",
   "metadata": {},
   "outputs": [
    {
     "data": {
      "text/plain": [
       "(99, 8)"
      ]
     },
     "execution_count": 5,
     "metadata": {},
     "output_type": "execute_result"
    }
   ],
   "source": [
    "df.shape"
   ]
  },
  {
   "cell_type": "code",
   "execution_count": 16,
   "id": "42e3675e",
   "metadata": {},
   "outputs": [
    {
     "name": "stdout",
     "output_type": "stream",
     "text": [
      "Contact Center Customer Service + 8.0\n"
     ]
    }
   ],
   "source": [
    "m = str(df['title'][1])\n",
    "print(m)"
   ]
  },
  {
   "cell_type": "code",
   "execution_count": 36,
   "id": "624e3e5f",
   "metadata": {},
   "outputs": [
    {
     "name": "stdout",
     "output_type": "stream",
     "text": [
      "0    https://www.shl.com/solutions/products/product...\n",
      "1    https://www.shl.com/solutions/products/product...\n",
      "2    https://www.shl.com/solutions/products/product...\n",
      "Name: url, dtype: object\n"
     ]
    }
   ],
   "source": [
    "import pandas as pd\n",
    "\n",
    "# Sample DataFrame (replace this with your actual DataFrame)\n",
    "df = pd.DataFrame({\n",
    "    'title': ['Contact Center Customer Service + 8.0', 'Account Manager Solution', 'Product Catalog']\n",
    "})\n",
    "\n",
    "# Base URL\n",
    "base_url = 'https://www.shl.com/solutions/products/product-catalog/'\n",
    "\n",
    "# Create the 'url' column by applying the transformations to the 'title' column\n",
    "df['url'] = base_url + \"view/\" + df['title'].str.lower().str.replace(' ', '-').str.replace(r'[^\\w\\s-]', '').str.replace('+', '-').str.replace('.', '-') \n",
    "\n",
    "# Print the DataFrame to check the result\n",
    "print(df['url'].head())\n"
   ]
  },
  {
   "cell_type": "code",
   "execution_count": null,
   "id": "9b329cf6",
   "metadata": {},
   "outputs": [],
   "source": []
  },
  {
   "cell_type": "code",
   "execution_count": null,
   "id": "1d1ca467",
   "metadata": {},
   "outputs": [],
   "source": []
  }
 ],
 "metadata": {
  "kernelspec": {
   "display_name": "Python 3 (ipykernel)",
   "language": "python",
   "name": "python3"
  },
  "language_info": {
   "codemirror_mode": {
    "name": "ipython",
    "version": 3
   },
   "file_extension": ".py",
   "mimetype": "text/x-python",
   "name": "python",
   "nbconvert_exporter": "python",
   "pygments_lexer": "ipython3",
   "version": "3.9.13"
  }
 },
 "nbformat": 4,
 "nbformat_minor": 5
}
